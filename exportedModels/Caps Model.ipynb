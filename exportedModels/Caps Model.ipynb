{
  "nbformat": 4,
  "nbformat_minor": 0,
  "metadata": {
    "colab": {
      "name": "experiment.ipynb",
      "provenance": []
    },
    "kernelspec": {
      "name": "python3",
      "display_name": "Python 3"
    },
    "language_info": {
      "name": "python"
    }
  },
  "cells": [
    {
      "cell_type": "markdown",
      "metadata": {
        "id": "-c1fW7o2Flwr"
      },
      "source": [
        "#Capstone Project Machine Learning Model\n",
        "Faiz Khansa Adrika M0080838"
      ]
    },
    {
      "cell_type": "markdown",
      "metadata": {
        "id": "MeKGs0wwFwsm"
      },
      "source": [
        "##Import and list dependencies"
      ]
    },
    {
      "cell_type": "code",
      "metadata": {
        "id": "z70SC3EZLxvz"
      },
      "source": [
        "import tensorflow as tf\n",
        "import keras_preprocessing\n",
        "from keras_preprocessing import image\n",
        "from keras_preprocessing.image import ImageDataGenerator\n",
        "from tensorflow.keras.optimizers import RMSprop\n",
        "import numpy as np\n",
        "from google.colab import files\n",
        "from keras.preprocessing.image import load_img, img_to_array"
      ],
      "execution_count": null,
      "outputs": []
    },
    {
      "cell_type": "code",
      "metadata": {
        "id": "vl0s2MsuL0RI"
      },
      "source": [
        "data_dir = '/content/drive/MyDrive/dataset'\n",
        "train_dir = '/content/drive/MyDrive/dataset/train'\n",
        "val_dir = '/content/drive/MyDrive/dataset/test'"
      ],
      "execution_count": null,
      "outputs": []
    },
    {
      "cell_type": "markdown",
      "metadata": {
        "id": "YVr2vzgLF0jy"
      },
      "source": [
        "##Data Augmentation"
      ]
    },
    {
      "cell_type": "code",
      "metadata": {
        "colab": {
          "base_uri": "https://localhost:8080/"
        },
        "id": "MJfp7_BXL298",
        "outputId": "58491894-d924-45a4-bc40-48f7492b21e2"
      },
      "source": [
        "train_datagen = ImageDataGenerator(\n",
        "      rescale = 1./255,\n",
        "\t    rotation_range=40,\n",
        "      width_shift_range=0.2,\n",
        "      height_shift_range=0.2,\n",
        "      shear_range=0.2,\n",
        "      zoom_range=0.2,\n",
        "      horizontal_flip=True,\n",
        "      fill_mode='nearest')\n",
        "\n",
        "test_datagen = ImageDataGenerator(rescale=1./255)\n",
        "\n",
        "train_generator = train_datagen.flow_from_directory(\n",
        "        train_dir,  \n",
        "        target_size=(130, 130),\n",
        "        class_mode='categorical')\n",
        "\n",
        "test_generator = test_datagen.flow_from_directory(\n",
        "        val_dir,\n",
        "        target_size=(130, 130),\n",
        "        class_mode='categorical')"
      ],
      "execution_count": null,
      "outputs": [
        {
          "output_type": "stream",
          "text": [
            "Found 714 images belonging to 4 classes.\n",
            "Found 177 images belonging to 4 classes.\n"
          ],
          "name": "stdout"
        }
      ]
    },
    {
      "cell_type": "markdown",
      "metadata": {
        "id": "SDH-FJXsF392"
      },
      "source": [
        "##Modelling and Training"
      ]
    },
    {
      "cell_type": "code",
      "metadata": {
        "colab": {
          "base_uri": "https://localhost:8080/"
        },
        "id": "IqOyDXWCMKfo",
        "outputId": "ef2be2a2-36f8-4526-9a86-a65ac33dfa73"
      },
      "source": [
        "model = tf.keras.Sequential([\n",
        "    tf.keras.layers.Conv2D(32,(3,3),padding ='same',strides=(2,2),activation='relu',input_shape=(130,130,3)),\n",
        "    tf.keras.layers.MaxPooling2D((2,2)),\n",
        "    tf.keras.layers.Conv2D(64,(3,3),padding ='same',strides=(2,2),activation='relu'),\n",
        "    tf.keras.layers.MaxPooling2D((2,2)),\n",
        "    tf.keras.layers.Conv2D(64,(3,3),padding ='same',strides=(2,2),activation='relu'),\n",
        "    tf.keras.layers.MaxPooling2D((2,2)),\n",
        "    tf.keras.layers.Conv2D(128,(3,3),padding ='same',strides=(2,2),activation='relu'),\n",
        "    tf.keras.layers.Flatten(),\n",
        "    tf.keras.layers.Dense(256,activation='relu'),\n",
        "    tf.keras.layers.Dropout(0.2),\n",
        "    tf.keras.layers.Dense(4,activation='softmax')\n",
        "])\n",
        "model.summary()"
      ],
      "execution_count": null,
      "outputs": [
        {
          "output_type": "stream",
          "text": [
            "Model: \"sequential\"\n",
            "_________________________________________________________________\n",
            "Layer (type)                 Output Shape              Param #   \n",
            "=================================================================\n",
            "conv2d (Conv2D)              (None, 65, 65, 32)        896       \n",
            "_________________________________________________________________\n",
            "max_pooling2d (MaxPooling2D) (None, 32, 32, 32)        0         \n",
            "_________________________________________________________________\n",
            "conv2d_1 (Conv2D)            (None, 16, 16, 64)        18496     \n",
            "_________________________________________________________________\n",
            "max_pooling2d_1 (MaxPooling2 (None, 8, 8, 64)          0         \n",
            "_________________________________________________________________\n",
            "conv2d_2 (Conv2D)            (None, 4, 4, 64)          36928     \n",
            "_________________________________________________________________\n",
            "max_pooling2d_2 (MaxPooling2 (None, 2, 2, 64)          0         \n",
            "_________________________________________________________________\n",
            "conv2d_3 (Conv2D)            (None, 1, 1, 128)         73856     \n",
            "_________________________________________________________________\n",
            "flatten (Flatten)            (None, 128)               0         \n",
            "_________________________________________________________________\n",
            "dense (Dense)                (None, 256)               33024     \n",
            "_________________________________________________________________\n",
            "dropout (Dropout)            (None, 256)               0         \n",
            "_________________________________________________________________\n",
            "dense_1 (Dense)              (None, 4)                 1028      \n",
            "=================================================================\n",
            "Total params: 164,228\n",
            "Trainable params: 164,228\n",
            "Non-trainable params: 0\n",
            "_________________________________________________________________\n"
          ],
          "name": "stdout"
        }
      ]
    },
    {
      "cell_type": "code",
      "metadata": {
        "id": "YOBtYuKdMVob"
      },
      "source": [
        "model.compile(optimizer='adam',loss='categorical_crossentropy',metrics=['accuracy'])\n",
        " #tf.keras.callbacks.EarlyStopping(monitor='val_loss',patience=10,restore_best_weights=True)"
      ],
      "execution_count": null,
      "outputs": []
    },
    {
      "cell_type": "code",
      "metadata": {
        "id": "Q6fV9jogdav7"
      },
      "source": [
        "class myCallback(tf.keras.callbacks.Callback):\n",
        "  def on_epoch_end(self, epoch, logs={}):\n",
        "    if(logs.get('val_accuracy')>0.89):\n",
        "      print(\"\\nReached 89% accuracy\")\n",
        "      self.model.stop_training = True\n",
        "callback = myCallback()"
      ],
      "execution_count": null,
      "outputs": []
    },
    {
      "cell_type": "code",
      "metadata": {
        "colab": {
          "base_uri": "https://localhost:8080/"
        },
        "id": "eaAC0FohMjd_",
        "outputId": "3defd2f1-c750-49e2-b3a4-39684cdce9de"
      },
      "source": [
        "history = model.fit(train_generator, \n",
        "                    epochs=100, \n",
        "                    validation_data = test_generator,\n",
        "                    callbacks = [callback])"
      ],
      "execution_count": null,
      "outputs": [
        {
          "output_type": "stream",
          "text": [
            "Epoch 1/100\n",
            "23/23 [==============================] - 17s 724ms/step - loss: 1.3781 - accuracy: 0.3081 - val_loss: 1.3556 - val_accuracy: 0.2373\n",
            "Epoch 2/100\n",
            "23/23 [==============================] - 16s 709ms/step - loss: 1.3002 - accuracy: 0.3739 - val_loss: 1.0528 - val_accuracy: 0.4972\n",
            "Epoch 3/100\n",
            "23/23 [==============================] - 16s 710ms/step - loss: 1.0137 - accuracy: 0.5490 - val_loss: 0.9016 - val_accuracy: 0.6215\n",
            "Epoch 4/100\n",
            "23/23 [==============================] - 16s 713ms/step - loss: 0.9554 - accuracy: 0.6078 - val_loss: 0.8439 - val_accuracy: 0.6780\n",
            "Epoch 5/100\n",
            "23/23 [==============================] - 16s 656ms/step - loss: 0.8122 - accuracy: 0.6513 - val_loss: 0.7369 - val_accuracy: 0.7062\n",
            "Epoch 6/100\n",
            "23/23 [==============================] - 16s 691ms/step - loss: 0.8116 - accuracy: 0.6681 - val_loss: 0.7712 - val_accuracy: 0.7288\n",
            "Epoch 7/100\n",
            "23/23 [==============================] - 16s 682ms/step - loss: 0.7222 - accuracy: 0.7073 - val_loss: 0.6638 - val_accuracy: 0.7514\n",
            "Epoch 8/100\n",
            "23/23 [==============================] - 16s 695ms/step - loss: 0.6567 - accuracy: 0.7199 - val_loss: 0.7361 - val_accuracy: 0.7119\n",
            "Epoch 9/100\n",
            "23/23 [==============================] - 16s 691ms/step - loss: 0.6815 - accuracy: 0.7045 - val_loss: 0.7592 - val_accuracy: 0.7514\n",
            "Epoch 10/100\n",
            "23/23 [==============================] - 16s 698ms/step - loss: 0.5852 - accuracy: 0.7423 - val_loss: 0.6060 - val_accuracy: 0.7458\n",
            "Epoch 11/100\n",
            "23/23 [==============================] - 16s 695ms/step - loss: 0.5837 - accuracy: 0.7731 - val_loss: 0.7014 - val_accuracy: 0.7288\n",
            "Epoch 12/100\n",
            "23/23 [==============================] - 16s 692ms/step - loss: 0.5434 - accuracy: 0.7801 - val_loss: 0.5025 - val_accuracy: 0.8023\n",
            "Epoch 13/100\n",
            "23/23 [==============================] - 16s 700ms/step - loss: 0.5175 - accuracy: 0.7885 - val_loss: 0.7423 - val_accuracy: 0.6780\n",
            "Epoch 14/100\n",
            "23/23 [==============================] - 16s 694ms/step - loss: 0.5413 - accuracy: 0.7703 - val_loss: 0.6798 - val_accuracy: 0.7458\n",
            "Epoch 15/100\n",
            "23/23 [==============================] - 16s 666ms/step - loss: 0.5082 - accuracy: 0.7913 - val_loss: 0.4256 - val_accuracy: 0.8192\n",
            "Epoch 16/100\n",
            "23/23 [==============================] - 16s 683ms/step - loss: 0.5335 - accuracy: 0.8039 - val_loss: 0.5542 - val_accuracy: 0.7684\n",
            "Epoch 17/100\n",
            "23/23 [==============================] - 16s 714ms/step - loss: 0.4412 - accuracy: 0.8263 - val_loss: 0.5055 - val_accuracy: 0.7740\n",
            "Epoch 18/100\n",
            "23/23 [==============================] - 16s 700ms/step - loss: 0.5022 - accuracy: 0.7997 - val_loss: 1.0195 - val_accuracy: 0.6893\n",
            "Epoch 19/100\n",
            "23/23 [==============================] - 16s 710ms/step - loss: 0.5012 - accuracy: 0.7941 - val_loss: 0.6706 - val_accuracy: 0.7288\n",
            "Epoch 20/100\n",
            "23/23 [==============================] - 16s 709ms/step - loss: 0.4555 - accuracy: 0.8221 - val_loss: 0.8892 - val_accuracy: 0.7175\n",
            "Epoch 21/100\n",
            "23/23 [==============================] - 16s 707ms/step - loss: 0.4315 - accuracy: 0.8473 - val_loss: 0.7351 - val_accuracy: 0.7458\n",
            "Epoch 22/100\n",
            "23/23 [==============================] - 16s 687ms/step - loss: 0.3927 - accuracy: 0.8473 - val_loss: 0.5410 - val_accuracy: 0.7966\n",
            "Epoch 23/100\n",
            "23/23 [==============================] - 16s 706ms/step - loss: 0.3575 - accuracy: 0.8711 - val_loss: 0.5226 - val_accuracy: 0.8023\n",
            "Epoch 24/100\n",
            "23/23 [==============================] - 16s 704ms/step - loss: 0.3352 - accuracy: 0.8683 - val_loss: 0.4737 - val_accuracy: 0.8136\n",
            "Epoch 25/100\n",
            "23/23 [==============================] - 16s 697ms/step - loss: 0.3613 - accuracy: 0.8543 - val_loss: 0.4050 - val_accuracy: 0.8305\n",
            "Epoch 26/100\n",
            "23/23 [==============================] - 16s 699ms/step - loss: 0.4110 - accuracy: 0.8403 - val_loss: 0.3288 - val_accuracy: 0.8475\n",
            "Epoch 27/100\n",
            "23/23 [==============================] - 16s 727ms/step - loss: 0.3642 - accuracy: 0.8669 - val_loss: 0.6326 - val_accuracy: 0.7797\n",
            "Epoch 28/100\n",
            "23/23 [==============================] - 16s 694ms/step - loss: 0.3919 - accuracy: 0.8515 - val_loss: 0.8988 - val_accuracy: 0.6893\n",
            "Epoch 29/100\n",
            "23/23 [==============================] - 16s 695ms/step - loss: 0.3315 - accuracy: 0.8571 - val_loss: 0.4854 - val_accuracy: 0.7853\n",
            "Epoch 30/100\n",
            "23/23 [==============================] - 16s 711ms/step - loss: 0.3367 - accuracy: 0.8796 - val_loss: 0.5728 - val_accuracy: 0.8023\n",
            "Epoch 31/100\n",
            "23/23 [==============================] - 16s 706ms/step - loss: 0.3005 - accuracy: 0.8936 - val_loss: 0.3865 - val_accuracy: 0.8418\n",
            "Epoch 32/100\n",
            "23/23 [==============================] - 16s 703ms/step - loss: 0.2992 - accuracy: 0.8782 - val_loss: 0.5396 - val_accuracy: 0.8192\n",
            "Epoch 33/100\n",
            "23/23 [==============================] - 16s 699ms/step - loss: 0.3108 - accuracy: 0.8880 - val_loss: 0.7579 - val_accuracy: 0.7571\n",
            "Epoch 34/100\n",
            "23/23 [==============================] - 16s 702ms/step - loss: 0.3615 - accuracy: 0.8557 - val_loss: 0.3481 - val_accuracy: 0.8588\n",
            "Epoch 35/100\n",
            "23/23 [==============================] - 16s 707ms/step - loss: 0.2907 - accuracy: 0.8838 - val_loss: 0.3656 - val_accuracy: 0.8588\n",
            "Epoch 36/100\n",
            "23/23 [==============================] - 16s 708ms/step - loss: 0.2472 - accuracy: 0.9062 - val_loss: 0.6093 - val_accuracy: 0.7740\n",
            "Epoch 37/100\n",
            "23/23 [==============================] - 16s 711ms/step - loss: 0.2296 - accuracy: 0.9216 - val_loss: 0.4579 - val_accuracy: 0.8362\n",
            "Epoch 38/100\n",
            "23/23 [==============================] - 16s 701ms/step - loss: 0.2540 - accuracy: 0.9020 - val_loss: 0.3379 - val_accuracy: 0.8588\n",
            "Epoch 39/100\n",
            "23/23 [==============================] - 16s 707ms/step - loss: 0.2967 - accuracy: 0.8824 - val_loss: 0.7074 - val_accuracy: 0.7853\n",
            "Epoch 40/100\n",
            "23/23 [==============================] - 16s 702ms/step - loss: 0.3094 - accuracy: 0.8768 - val_loss: 0.3289 - val_accuracy: 0.8644\n",
            "Epoch 41/100\n",
            "23/23 [==============================] - 16s 707ms/step - loss: 0.2856 - accuracy: 0.8866 - val_loss: 0.8539 - val_accuracy: 0.7514\n",
            "Epoch 42/100\n",
            "23/23 [==============================] - 16s 695ms/step - loss: 0.3002 - accuracy: 0.8950 - val_loss: 0.2276 - val_accuracy: 0.9153\n",
            "\n",
            "Reached 90% accuracy\n"
          ],
          "name": "stdout"
        }
      ]
    },
    {
      "cell_type": "code",
      "metadata": {
        "colab": {
          "base_uri": "https://localhost:8080/",
          "height": 531
        },
        "id": "25uezBtySA5k",
        "outputId": "c0739660-d4a6-4a42-ccd8-23adc5b1f53d"
      },
      "source": [
        "import pandas as pd\n",
        "histories = pd.DataFrame(model.history.history)\n",
        "histories[[\"loss\", \"val_loss\"]].plot()\n",
        "histories[[\"accuracy\", \"val_accuracy\"]].plot()"
      ],
      "execution_count": null,
      "outputs": [
        {
          "output_type": "execute_result",
          "data": {
            "text/plain": [
              "<matplotlib.axes._subplots.AxesSubplot at 0x7f13925d55d0>"
            ]
          },
          "metadata": {
            "tags": []
          },
          "execution_count": 8
        },
        {
          "output_type": "display_data",
          "data": {
            "image/png": "[encoded data removed]",
            "text/plain": [
              "<Figure size 432x288 with 1 Axes>"
            ]
          },
          "metadata": {
            "tags": [],
            "needs_background": "light"
          }
        },
        {
          "output_type": "display_data",
          "data": {
            "image/png": "[encoded data removed]",
            "text/plain": [
              "<Figure size 432x288 with 1 Axes>"
            ]
          },
          "metadata": {
            "tags": [],
            "needs_background": "light"
          }
        }
      ]
    },
    {
      "cell_type": "markdown",
      "metadata": {
        "id": "QHZ4S-btGDaw"
      },
      "source": [
        "##Save and convert the model to the required formats"
      ]
    },
    {
      "cell_type": "markdown",
      "metadata": {
        "id": "xXuf-pCUGIOC"
      },
      "source": [
        "Convert to TFLITE"
      ]
    },
    {
      "cell_type": "code",
      "metadata": {
        "colab": {
          "base_uri": "https://localhost:8080/"
        },
        "id": "uTyySG_8yK2R",
        "outputId": "730ad984-19fc-4f3b-8e7d-0e6f1906c78a"
      },
      "source": [
        "saved_model = 'saved_model'\n",
        "tf.saved_model.save(model, saved_model)"
      ],
      "execution_count": null,
      "outputs": [
        {
          "output_type": "stream",
          "text": [
            "WARNING:tensorflow:FOR KERAS USERS: The object that you are saving contains one or more Keras models or layers. If you are loading the SavedModel with `tf.keras.models.load_model`, continue reading (otherwise, you may ignore the following instructions). Please change your code to save with `tf.keras.models.save_model` or `model.save`, and confirm that the file \"keras.metadata\" exists in the export directory. In the future, Keras will only load the SavedModels that have this file. In other words, `tf.saved_model.save` will no longer write SavedModels that can be recovered as Keras models (this will apply in TF 2.5).\n",
            "\n",
            "FOR DEVS: If you are overwriting _tracking_metadata in your class, this property has been used to save metadata in the SavedModel. The metadta field will be deprecated soon, so please move the metadata to a different file.\n",
            "INFO:tensorflow:Assets written to: saved_model/assets\n"
          ],
          "name": "stdout"
        }
      ]
    },
    {
      "cell_type": "code",
      "metadata": {
        "id": "GXwWj8JuyRtT"
      },
      "source": [
        "converter = tf.lite.TFLiteConverter.from_saved_model(saved_model)\n",
        "converter.optimizations = [tf.lite.Optimize.OPTIMIZE_FOR_SIZE]\n",
        "tflite_model = converter.convert()\n",
        "\n",
        "tflite_model_file = 'converted_model.tflite'\n",
        "with open(tflite_model_file, \"wb\") as f:\n",
        "    f.write(tflite_model)"
      ],
      "execution_count": null,
      "outputs": []
    },
    {
      "cell_type": "code",
      "metadata": {
        "id": "EKj71Oi-zuyO"
      },
      "source": [
        "with open(tflite_model_file, 'rb') as fid:\n",
        "    tflite_model = fid.read()\n",
        "    \n",
        "interpreter = tf.lite.Interpreter(model_content=tflite_model)\n",
        "interpreter.allocate_tensors()\n",
        "\n",
        "input_index = interpreter.get_input_details()[0][\"index\"]\n",
        "output_index = interpreter.get_output_details()[0][\"index\"]"
      ],
      "execution_count": null,
      "outputs": []
    },
    {
      "cell_type": "markdown",
      "metadata": {
        "id": "2qzjXP7YGQ-I"
      },
      "source": [
        "Freeze and Save the model files to Drive"
      ]
    },
    {
      "cell_type": "code",
      "metadata": {
        "colab": {
          "base_uri": "https://localhost:8080/"
        },
        "id": "ebkRfMeo1LqW",
        "outputId": "66f5e43f-315d-49cd-bd23-7b1ab91ddd57"
      },
      "source": [
        "model.save('/content/drive/MyDrive/Caps')"
      ],
      "execution_count": null,
      "outputs": [
        {
          "output_type": "stream",
          "text": [
            "INFO:tensorflow:Assets written to: /content/drive/MyDrive/Caps/assets\n"
          ],
          "name": "stdout"
        }
      ]
    },
    {
      "cell_type": "markdown",
      "metadata": {
        "id": "WnxQMsVDGZcO"
      },
      "source": [
        "Convert as JSON"
      ]
    },
    {
      "cell_type": "code",
      "metadata": {
        "id": "K26oyu971tqR"
      },
      "source": [
        "model_json = model.to_json()\n",
        "with open(\"model.json\", \"w\") as json_file:\n",
        "    json_file.write(model_json)\n",
        "# serialize weights to HDF5\n",
        "model.save_weights(\"model.h5\")"
      ],
      "execution_count": null,
      "outputs": []
    },
    {
      "cell_type": "markdown",
      "metadata": {
        "id": "9e8bCw1KGcsE"
      },
      "source": [
        "Convert as YAML"
      ]
    },
    {
      "cell_type": "code",
      "metadata": {
        "id": "NsQ3UgAKC118"
      },
      "source": [
        "model_yaml = model.to_yaml()\n",
        "with open(\"model.yaml\", \"w\") as yaml_file:\n",
        "    yaml_file.write(model_yaml)"
      ],
      "execution_count": null,
      "outputs": []
    },
    {
      "cell_type": "markdown",
      "metadata": {
        "id": "EblObBlvGh4r"
      },
      "source": [
        "##Predict using the TFLITE model"
      ]
    },
    {
      "cell_type": "code",
      "metadata": {
        "colab": {
          "resources": {
            "http://localhost:8080/nbextensions/google.colab/files.js": {
              "data": "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",
              "ok": true,
              "headers": [
                [
                  "content-type",
                  "application/javascript"
                ]
              ],
              "status": 200,
              "status_text": ""
            }
          },
          "base_uri": "https://localhost:8080/",
          "height": 91
        },
        "id": "WQNgLU2Hz5kB",
        "outputId": "fa47c8af-114d-4fc8-bcaa-953f59eccfbb"
      },
      "source": [
        "uploaded = files.upload()\n",
        "for fn in uploaded.keys():\n",
        "  img = load_img(fn, target_size=(130, 130))\n",
        "  img = img_to_array(img)\n",
        "  img = np.expand_dims(img, axis=0)\n",
        "  images = np.vstack([img])\n",
        "  classes=[]\n",
        "  interpreter.set_tensor(input_index, img)\n",
        "  interpreter.invoke()\n",
        "  classes.append(interpreter.get_tensor(output_index))\n",
        "  if classes[0][0][0]==1:\n",
        "    print(fn+\" is Damaged road(pothole)\")\n",
        "  elif classes[0][0][1]==1:\n",
        "    print(fn+\" is Flooded road\")\n",
        "  elif classes[0][0][2]==1:\n",
        "    print(fn+\" is Good road\")\n",
        "  else:\n",
        "    print(fn+' is Traffic Jam')\n",
        "  classes.clear()"
      ],
      "execution_count": null,
      "outputs": [
        {
          "output_type": "display_data",
          "data": {
            "text/html": [
              "\n",
              "     <input type=\"file\" id=\"files-712243d9-8786-4619-8947-f3f5b28a7a6b\" name=\"files[]\" multiple disabled\n",
              "        style=\"border:none\" />\n",
              "     <output id=\"result-712243d9-8786-4619-8947-f3f5b28a7a6b\">\n",
              "      Upload widget is only available when the cell has been executed in the\n",
              "      current browser session. Please rerun this cell to enable.\n",
              "      </output>\n",
              "      <script src=\"/nbextensions/google.colab/files.js\"></script> "
            ],
            "text/plain": [
              "<IPython.core.display.HTML object>"
            ]
          },
          "metadata": {
            "tags": []
          }
        },
        {
          "output_type": "stream",
          "text": [
            "Saving verypoor_042.jpg to verypoor_042 (1).jpg\n",
            "verypoor_042.jpg is Traffic Jam\n"
          ],
          "name": "stdout"
        }
      ]
    },
    {
      "cell_type": "code",
      "metadata": {
        "colab": {
          "base_uri": "https://localhost:8080/"
        },
        "id": "7STgjeAaAA9A",
        "outputId": "7a1efca9-63e7-42af-e32a-b8f2ccef0882"
      },
      "source": [
        "train_generator.class_indices"
      ],
      "execution_count": null,
      "outputs": [
        {
          "output_type": "execute_result",
          "data": {
            "text/plain": [
              "{'damaged': 0, 'flood': 1, 'good': 2, 'jam': 3}"
            ]
          },
          "metadata": {
            "tags": []
          },
          "execution_count": 36
        }
      ]
    },
    {
      "cell_type": "code",
      "metadata": {
        "colab": {
          "base_uri": "https://localhost:8080/"
        },
        "id": "_16G5wWsAC22",
        "outputId": "77d59c78-ffea-4098-f80a-703025b69a39"
      },
      "source": [
        "test_generator.class_indices"
      ],
      "execution_count": null,
      "outputs": [
        {
          "output_type": "execute_result",
          "data": {
            "text/plain": [
              "{'damaged': 0, 'flood': 1, 'good': 2, 'jam': 3}"
            ]
          },
          "metadata": {
            "tags": []
          },
          "execution_count": 37
        }
      ]
    }
  ]
}